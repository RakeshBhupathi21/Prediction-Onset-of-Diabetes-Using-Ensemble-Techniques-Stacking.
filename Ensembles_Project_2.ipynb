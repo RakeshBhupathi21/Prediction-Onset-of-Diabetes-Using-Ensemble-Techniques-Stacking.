{
  "cells": [
    {
      "cell_type": "markdown",
      "metadata": {
        "id": "view-in-github",
        "colab_type": "text"
      },
      "source": [
        "<a href=\"https://colab.research.google.com/github/RakeshBhupathi21/Prediction-Onset-of-Diabetes-Using-Ensemble-Techniques-Stacking./blob/main/Ensembles_Project_2.ipynb\" target=\"_parent\"><img src=\"https://colab.research.google.com/assets/colab-badge.svg\" alt=\"Open In Colab\"/></a>"
      ]
    },
    {
      "cell_type": "markdown",
      "id": "793e8798",
      "metadata": {
        "id": "793e8798"
      },
      "source": [
        "<h1><b>Prediction Onset of Diabetes Using Ensemble Techniques/Stacking.<b></h1>"
      ]
    },
    {
      "cell_type": "markdown",
      "id": "eef65de8",
      "metadata": {
        "id": "eef65de8"
      },
      "source": [
        "<h2><b>Installation of xgboost<b></h2>"
      ]
    },
    {
      "cell_type": "code",
      "execution_count": null,
      "id": "996bb035",
      "metadata": {
        "id": "996bb035",
        "outputId": "dd8a81ef-38f3-40a9-9906-abf15434b9ca"
      },
      "outputs": [
        {
          "name": "stdout",
          "output_type": "stream",
          "text": [
            "Requirement already satisfied: xgboost in c:\\programdata\\anaconda3\\lib\\site-packages (1.6.1)\n",
            "Requirement already satisfied: numpy in c:\\programdata\\anaconda3\\lib\\site-packages (from xgboost) (1.20.3)\n",
            "Requirement already satisfied: scipy in c:\\programdata\\anaconda3\\lib\\site-packages (from xgboost) (1.7.1)\n"
          ]
        }
      ],
      "source": [
        "!pip install xgboost"
      ]
    },
    {
      "cell_type": "markdown",
      "id": "3afdd6b1",
      "metadata": {
        "id": "3afdd6b1"
      },
      "source": [
        "<h2>Import Libraries</h2>\n",
        "<p>Let's import some libraries to get started!</p>"
      ]
    },
    {
      "cell_type": "code",
      "execution_count": null,
      "id": "4bc79f40",
      "metadata": {
        "id": "4bc79f40"
      },
      "outputs": [],
      "source": [
        "import pandas as pd\n",
        "import seaborn as sns\n",
        "import matplotlib.pyplot as plt\n",
        "%matplotlib inline\n",
        "from numpy import loadtxt\n",
        "from xgboost import XGBClassifier\n",
        "from sklearn.model_selection import train_test_split\n",
        "from sklearn.metrics import accuracy_score\n",
        "import warnings\n",
        "warnings.filterwarnings('ignore')\n",
        "import numpy as np"
      ]
    },
    {
      "cell_type": "markdown",
      "id": "10e00074",
      "metadata": {
        "id": "10e00074"
      },
      "source": [
        "<h2><b>Data Loading<b></h2>"
      ]
    },
    {
      "cell_type": "code",
      "execution_count": null,
      "id": "e9eb7da0",
      "metadata": {
        "id": "e9eb7da0"
      },
      "outputs": [],
      "source": [
        "# load data\n",
        "dataset = loadtxt('pima-indians-diabetes.csv', delimiter=\",\")\n"
      ]
    },
    {
      "cell_type": "markdown",
      "id": "4614851a",
      "metadata": {
        "id": "4614851a"
      },
      "source": [
        "<h2><b>Spliting Data <b></h2>"
      ]
    },
    {
      "cell_type": "code",
      "execution_count": null,
      "id": "26b6bde1",
      "metadata": {
        "id": "26b6bde1"
      },
      "outputs": [],
      "source": [
        "# split data into X and y\n",
        "X = dataset[:,0:8]\n",
        "Y = dataset[:,8]"
      ]
    },
    {
      "cell_type": "code",
      "execution_count": null,
      "id": "7aacb926",
      "metadata": {
        "id": "7aacb926"
      },
      "outputs": [],
      "source": [
        " #split data into train and test sets\n",
        "seed = 7\n",
        "test_size = 0.33\n",
        "X_train, X_test, y_train, y_test = train_test_split(X, Y, test_size=test_size, random_state=seed)"
      ]
    },
    {
      "cell_type": "code",
      "execution_count": null,
      "id": "8ac971e7",
      "metadata": {
        "id": "8ac971e7",
        "outputId": "8343edbf-f152-4bb5-94f9-c183ef0a5bbb"
      },
      "outputs": [
        {
          "data": {
            "text/plain": [
              "XGBClassifier(base_score=0.5, booster='gbtree', callbacks=None,\n",
              "              colsample_bylevel=1, colsample_bynode=1, colsample_bytree=1,\n",
              "              early_stopping_rounds=None, enable_categorical=False,\n",
              "              eval_metric='mlogloss', gamma=0, gpu_id=-1,\n",
              "              grow_policy='depthwise', importance_type=None,\n",
              "              interaction_constraints='', learning_rate=0.300000012,\n",
              "              max_bin=256, max_cat_to_onehot=4, max_delta_step=0, max_depth=6,\n",
              "              max_leaves=0, min_child_weight=1, missing=nan,\n",
              "              monotone_constraints='()', n_estimators=100, n_jobs=0,\n",
              "              num_parallel_tree=1, predictor='auto', random_state=0,\n",
              "              reg_alpha=0, reg_lambda=1, ...)"
            ]
          },
          "execution_count": 6,
          "metadata": {},
          "output_type": "execute_result"
        }
      ],
      "source": [
        "# fit model no training data\n",
        "model = XGBClassifier(eval_metric='mlogloss')\n",
        "model.fit(X_train, y_train)"
      ]
    },
    {
      "cell_type": "markdown",
      "id": "64620fd6",
      "metadata": {
        "id": "64620fd6"
      },
      "source": [
        "<h2><b>Predictions<b></h2>"
      ]
    },
    {
      "cell_type": "code",
      "execution_count": null,
      "id": "afb84a44",
      "metadata": {
        "id": "afb84a44"
      },
      "outputs": [],
      "source": [
        "# make predictions for test data\n",
        "y_pred = model.predict(X_test)\n",
        "predictions = [round(value) for value in y_pred]"
      ]
    },
    {
      "cell_type": "code",
      "execution_count": null,
      "id": "73bd221e",
      "metadata": {
        "id": "73bd221e",
        "outputId": "9b1e521e-d4f4-4a69-d263-af3a85a8e5b8"
      },
      "outputs": [
        {
          "name": "stdout",
          "output_type": "stream",
          "text": [
            "Accuracy: 74.02%\n"
          ]
        }
      ],
      "source": [
        "# evaluate predictions\n",
        "accuracy = accuracy_score(y_test, predictions)\n",
        "print(\"Accuracy: %.2f%%\" % (accuracy * 100.0))"
      ]
    },
    {
      "cell_type": "markdown",
      "id": "1f7e293f",
      "metadata": {
        "id": "1f7e293f"
      },
      "source": [
        "<h2>Import Libraries for Data Classification</h2>\n",
        "<p>Let's import some libraries to get started!</p>"
      ]
    },
    {
      "cell_type": "code",
      "execution_count": null,
      "id": "a9966260",
      "metadata": {
        "id": "a9966260"
      },
      "outputs": [],
      "source": [
        "# imports for performing data classification\n",
        "from numpy import mean\n",
        "from numpy import std\n",
        "from matplotlib import pyplot\n",
        "from sklearn.datasets import make_classification\n",
        "from sklearn.model_selection import cross_val_score\n",
        "from sklearn.preprocessing import StandardScaler\n",
        "from sklearn.preprocessing import MinMaxScaler\n",
        "from sklearn.pipeline import Pipeline\n",
        "from sklearn.linear_model import LogisticRegression\n",
        "from sklearn.linear_model import RidgeClassifier\n",
        "from sklearn.linear_model import SGDClassifier\n",
        "from sklearn.linear_model import PassiveAggressiveClassifier\n",
        "from sklearn.neighbors import KNeighborsClassifier\n",
        "from sklearn.tree import DecisionTreeClassifier\n",
        "from sklearn.tree import ExtraTreeClassifier\n",
        "from sklearn.svm import SVC\n",
        "from sklearn.naive_bayes import GaussianNB\n",
        "from sklearn.ensemble import AdaBoostClassifier\n",
        "from sklearn.ensemble import BaggingClassifier\n",
        "from sklearn.ensemble import RandomForestClassifier\n",
        "from sklearn.ensemble import ExtraTreesClassifier\n",
        "from sklearn.ensemble import GradientBoostingClassifier\n",
        "from xgboost import XGBClassifier"
      ]
    },
    {
      "cell_type": "code",
      "execution_count": null,
      "id": "4d35a08f",
      "metadata": {
        "id": "4d35a08f"
      },
      "outputs": [],
      "source": [
        "# load the dataset, returns X and y elements\n",
        "def load_dataset():\n",
        "    return make_classification(n_samples=1000, n_classes=2, random_state=1)"
      ]
    },
    {
      "cell_type": "code",
      "execution_count": null,
      "id": "4f507cd0",
      "metadata": {
        "id": "4f507cd0"
      },
      "outputs": [],
      "source": [
        "# create a dict of standard models to evaluate {name:object}\n",
        "def define_models(models=dict()):\n",
        "    # linear models\n",
        "    models['logistic'] = LogisticRegression()\n",
        "    alpha = [0.1, 0.2, 0.3, 0.4, 0.5, 0.6, 0.7, 0.8, 0.9, 1.0]\n",
        "    for a in alpha:\n",
        "        models['ridge-'+str(a)] = RidgeClassifier(alpha=a)\n",
        "    models['sgd'] = SGDClassifier(max_iter=1000, tol=1e-3)\n",
        "    models['pa'] = PassiveAggressiveClassifier(max_iter=1000, tol=1e-3)\n",
        "    # non-linear models\n",
        "    n_neighbors = range(1, 21)\n",
        "    for k in n_neighbors:\n",
        "        models['knn-'+str(k)] = KNeighborsClassifier(n_neighbors=k)\n",
        "    models['cart'] = DecisionTreeClassifier()\n",
        "    models['extra'] = ExtraTreeClassifier()\n",
        "    models['svml'] = SVC(kernel='linear')\n",
        "    models['svmp'] = SVC(kernel='poly')\n",
        "    c_values = [0.1, 0.2, 0.3, 0.4, 0.5, 0.6, 0.7, 0.8, 0.9, 1.0]\n",
        "    for c in c_values:\n",
        "        models['svmr'+str(c)] = SVC(C=c)\n",
        "    models['bayes'] = GaussianNB()\n",
        "    # ensemble models\n",
        "    n_trees = 100\n",
        "    models['ada'] = AdaBoostClassifier(n_estimators=n_trees)\n",
        "    models['bag'] = BaggingClassifier(n_estimators=n_trees)\n",
        "    models['rf'] = RandomForestClassifier(n_estimators=n_trees)\n",
        "    models['et'] = ExtraTreesClassifier(n_estimators=n_trees)\n",
        "    models['gbm'] = GradientBoostingClassifier(n_estimators=n_trees)\n",
        "    print('Defined %d models' % len(models))\n",
        "    return models"
      ]
    },
    {
      "cell_type": "code",
      "execution_count": null,
      "id": "125a52bd",
      "metadata": {
        "id": "125a52bd"
      },
      "outputs": [],
      "source": [
        "# define gradient boosting models\n",
        "def define_gbm_models(models=dict(), use_xgb=True):\n",
        "    # define config ranges\n",
        "    rates = [0.001, 0.01, 0.1]\n",
        "    trees = [50, 100]\n",
        "    ss = [0.5, 0.7, 1.0]\n",
        "    depth = [3, 7, 9]\n",
        "    # add configurations\n",
        "    for l in rates:\n",
        "        for e in trees:\n",
        "            for s in ss:\n",
        "                for d in depth:\n",
        "                    cfg = [l, e, s, d]\n",
        "                    if use_xgb:\n",
        "                        name = 'xgb-' + str(cfg)\n",
        "                        models[name] = XGBClassifier(learning_rate=l, n_estimators=e, subsample=s, max_depth=d)\n",
        "                    else:\n",
        "                        name = 'gbm-' + str(cfg)\n",
        "                        models[name] = GradientBoostingClassifier(learning_rate=l, n_estimators=e, subsample=s, max_depth=d)\n",
        "    print('Defined %d models' % len(models))\n",
        "    return models"
      ]
    },
    {
      "cell_type": "code",
      "execution_count": null,
      "id": "7ec6d152",
      "metadata": {
        "id": "7ec6d152"
      },
      "outputs": [],
      "source": [
        "# create a feature preparation pipeline for a model\n",
        "def make_pipeline(model):\n",
        "    steps = list()\n",
        "    # standardization\n",
        "    steps.append(('standardize', StandardScaler()))\n",
        "    # normalization\n",
        "    steps.append(('normalize', MinMaxScaler()))\n",
        "    # the model\n",
        "    steps.append(('model', model))\n",
        "    # create pipeline\n",
        "    pipeline = Pipeline(steps=steps)\n",
        "    return pipeline"
      ]
    },
    {
      "cell_type": "markdown",
      "id": "6e8301e4",
      "metadata": {
        "id": "6e8301e4"
      },
      "source": [
        "<h2><b>Evaluation<b></h2>"
      ]
    },
    {
      "cell_type": "code",
      "execution_count": null,
      "id": "f64c5dd7",
      "metadata": {
        "id": "f64c5dd7"
      },
      "outputs": [],
      "source": [
        "# evaluate a single model\n",
        "def evaluate_model(X, y, model, folds, metric):\n",
        "    # create the pipeline\n",
        "    pipeline = make_pipeline(model)\n",
        "    # evaluate model\n",
        "    scores = cross_val_score(pipeline, X, y, scoring=metric, cv=folds, n_jobs=-1)\n",
        "    return scores"
      ]
    },
    {
      "cell_type": "code",
      "execution_count": null,
      "id": "3521b9d0",
      "metadata": {
        "id": "3521b9d0"
      },
      "outputs": [],
      "source": [
        "# evaluate a model and try to trap errors and and hide warnings\n",
        "def robust_evaluate_model(X, y, model, folds, metric):\n",
        "    scores = None\n",
        "    try:\n",
        "        with warnings.catch_warnings():\n",
        "            warnings.filterwarnings(\"ignore\")\n",
        "            scores = evaluate_model(X, y, model, folds, metric)\n",
        "    except:\n",
        "        scores = None\n",
        "    return scores"
      ]
    },
    {
      "cell_type": "code",
      "execution_count": null,
      "id": "044c5409",
      "metadata": {
        "id": "044c5409"
      },
      "outputs": [],
      "source": [
        "# evaluate a dict of models {name:object}, returns {name:score}\n",
        "def evaluate_models(X, y, models, folds=10, metric='accuracy'):\n",
        "    results = dict()\n",
        "    for name, model in models.items():\n",
        "        # evaluate the model\n",
        "        scores = robust_evaluate_model(X, y, model, folds, metric)\n",
        "        # show process\n",
        "        if scores is not None:\n",
        "            # store a result\n",
        "            results[name] = scores\n",
        "            mean_score, std_score = mean(scores), std(scores)\n",
        "            print('>%s: %.3f (+/-%.3f)' % (name, mean_score, std_score))\n",
        "        else:\n",
        "            print('>%s: error' % name)\n",
        "    return results\n"
      ]
    },
    {
      "cell_type": "code",
      "execution_count": null,
      "id": "fe8fa3ac",
      "metadata": {
        "id": "fe8fa3ac"
      },
      "outputs": [],
      "source": [
        "# print and plot the top n results\n",
        "def summarize_results(results, maximize=True, top_n=10):\n",
        "    # check for no results\n",
        "    if len(results) == 0:\n",
        "        print('no results')\n",
        "        return\n",
        "    # determine how many results to summarize\n",
        "    n = min(top_n, len(results))\n",
        "    # create a list of (name, mean(scores)) tuples\n",
        "    mean_scores = [(k,mean(v)) for k,v in results.items()]\n",
        "    # sort tuples by mean score\n",
        "    mean_scores = sorted(mean_scores, key=lambda x: x[1])\n",
        "    # reverse for descending order (e.g. for accuracy)\n",
        "    if maximize:\n",
        "        mean_scores = list(reversed(mean_scores))\n",
        "    # retrieve the top n for summarization\n",
        "    names = [x[0] for x in mean_scores[:n]]\n",
        "    scores = [results[x[0]] for x in mean_scores[:n]]\n",
        "    # print the top n\n",
        "    print()\n",
        "    for i in range(n):\n",
        "        name = names[i]\n",
        "        mean_score, std_score = mean(results[name]), std(results[name])\n",
        "        print('Rank=%d, Name=%s, Score=%.3f (+/- %.3f)' % (i+1, name, mean_score, std_score))\n",
        "    # boxplot for the top n\n",
        "    pyplot.boxplot(scores, labels=names)\n",
        "    _, labels = pyplot.xticks()\n",
        "    pyplot.setp(labels, rotation=90)\n",
        "    pyplot.savefig('spotcheck.png')\n",
        "\n",
        ""
      ]
    },
    {
      "cell_type": "code",
      "execution_count": null,
      "id": "58f7144b",
      "metadata": {
        "id": "58f7144b",
        "outputId": "7d158e1c-60d9-4de1-bd58-5e8a93a8c1d7"
      },
      "outputs": [
        {
          "name": "stdout",
          "output_type": "stream",
          "text": [
            "Defined 107 models\n",
            "Defined 107 models\n",
            ">logistic: 0.848 (+/-0.034)\n",
            ">ridge-0.1: 0.845 (+/-0.038)\n",
            ">ridge-0.2: 0.845 (+/-0.038)\n",
            ">ridge-0.3: 0.845 (+/-0.038)\n",
            ">ridge-0.4: 0.845 (+/-0.038)\n",
            ">ridge-0.5: 0.845 (+/-0.038)\n",
            ">ridge-0.6: 0.845 (+/-0.038)\n",
            ">ridge-0.7: 0.846 (+/-0.039)\n",
            ">ridge-0.8: 0.847 (+/-0.039)\n",
            ">ridge-0.9: 0.847 (+/-0.039)\n",
            ">ridge-1.0: 0.847 (+/-0.039)\n",
            ">sgd: 0.821 (+/-0.026)\n",
            ">pa: 0.782 (+/-0.071)\n",
            ">knn-1: 0.726 (+/-0.040)\n",
            ">knn-2: 0.688 (+/-0.026)\n",
            ">knn-3: 0.741 (+/-0.036)\n",
            ">knn-4: 0.726 (+/-0.027)\n",
            ">knn-5: 0.768 (+/-0.035)\n",
            ">knn-6: 0.755 (+/-0.028)\n",
            ">knn-7: 0.769 (+/-0.038)\n",
            ">knn-8: 0.761 (+/-0.045)\n",
            ">knn-9: 0.772 (+/-0.042)\n",
            ">knn-10: 0.765 (+/-0.040)\n",
            ">knn-11: 0.781 (+/-0.043)\n",
            ">knn-12: 0.780 (+/-0.045)\n",
            ">knn-13: 0.789 (+/-0.036)\n",
            ">knn-14: 0.788 (+/-0.036)\n",
            ">knn-15: 0.800 (+/-0.045)\n",
            ">knn-16: 0.791 (+/-0.039)\n",
            ">knn-17: 0.799 (+/-0.027)\n",
            ">knn-18: 0.796 (+/-0.031)\n",
            ">knn-19: 0.799 (+/-0.033)\n",
            ">knn-20: 0.801 (+/-0.035)\n",
            ">cart: 0.789 (+/-0.044)\n",
            ">extra: 0.736 (+/-0.064)\n",
            ">svml: 0.841 (+/-0.035)\n",
            ">svmp: 0.810 (+/-0.048)\n",
            ">svmr0.1: 0.827 (+/-0.034)\n",
            ">svmr0.2: 0.837 (+/-0.031)\n",
            ">svmr0.3: 0.840 (+/-0.032)\n",
            ">svmr0.4: 0.840 (+/-0.035)\n",
            ">svmr0.5: 0.847 (+/-0.034)\n",
            ">svmr0.6: 0.847 (+/-0.037)\n",
            ">svmr0.7: 0.849 (+/-0.039)\n",
            ">svmr0.8: 0.850 (+/-0.038)\n",
            ">svmr0.9: 0.849 (+/-0.039)\n",
            ">svmr1.0: 0.849 (+/-0.038)\n",
            ">bayes: 0.816 (+/-0.035)\n",
            ">ada: 0.839 (+/-0.031)\n",
            ">bag: 0.866 (+/-0.035)\n",
            ">rf: 0.868 (+/-0.036)\n",
            ">et: 0.860 (+/-0.033)\n",
            ">gbm: 0.866 (+/-0.044)\n",
            ">xgb-[0.001, 50, 0.5, 3]: 0.861 (+/-0.034)\n",
            ">xgb-[0.001, 50, 0.5, 7]: 0.862 (+/-0.036)\n",
            ">xgb-[0.001, 50, 0.5, 9]: 0.862 (+/-0.036)\n",
            ">xgb-[0.001, 50, 0.7, 3]: 0.863 (+/-0.035)\n",
            ">xgb-[0.001, 50, 0.7, 7]: 0.864 (+/-0.037)\n",
            ">xgb-[0.001, 50, 0.7, 9]: 0.863 (+/-0.037)\n",
            ">xgb-[0.001, 50, 1.0, 3]: 0.861 (+/-0.050)\n",
            ">xgb-[0.001, 50, 1.0, 7]: 0.842 (+/-0.036)\n",
            ">xgb-[0.001, 50, 1.0, 9]: 0.841 (+/-0.038)\n",
            ">xgb-[0.001, 100, 0.5, 3]: 0.858 (+/-0.032)\n",
            ">xgb-[0.001, 100, 0.5, 7]: 0.860 (+/-0.038)\n",
            ">xgb-[0.001, 100, 0.5, 9]: 0.861 (+/-0.038)\n",
            ">xgb-[0.001, 100, 0.7, 3]: 0.864 (+/-0.035)\n",
            ">xgb-[0.001, 100, 0.7, 7]: 0.860 (+/-0.040)\n",
            ">xgb-[0.001, 100, 0.7, 9]: 0.859 (+/-0.041)\n",
            ">xgb-[0.001, 100, 1.0, 3]: 0.860 (+/-0.050)\n",
            ">xgb-[0.001, 100, 1.0, 7]: 0.847 (+/-0.033)\n",
            ">xgb-[0.001, 100, 1.0, 9]: 0.846 (+/-0.036)\n",
            ">xgb-[0.01, 50, 0.5, 3]: 0.859 (+/-0.036)\n",
            ">xgb-[0.01, 50, 0.5, 7]: 0.858 (+/-0.035)\n",
            ">xgb-[0.01, 50, 0.5, 9]: 0.859 (+/-0.035)\n",
            ">xgb-[0.01, 50, 0.7, 3]: 0.864 (+/-0.034)\n",
            ">xgb-[0.01, 50, 0.7, 7]: 0.861 (+/-0.038)\n",
            ">xgb-[0.01, 50, 0.7, 9]: 0.858 (+/-0.039)\n",
            ">xgb-[0.01, 50, 1.0, 3]: 0.867 (+/-0.036)\n",
            ">xgb-[0.01, 50, 1.0, 7]: 0.864 (+/-0.035)\n",
            ">xgb-[0.01, 50, 1.0, 9]: 0.860 (+/-0.032)\n",
            ">xgb-[0.01, 100, 0.5, 3]: 0.864 (+/-0.034)\n",
            ">xgb-[0.01, 100, 0.5, 7]: 0.859 (+/-0.040)\n",
            ">xgb-[0.01, 100, 0.5, 9]: 0.860 (+/-0.039)\n",
            ">xgb-[0.01, 100, 0.7, 3]: 0.865 (+/-0.036)\n",
            ">xgb-[0.01, 100, 0.7, 7]: 0.859 (+/-0.039)\n",
            ">xgb-[0.01, 100, 0.7, 9]: 0.858 (+/-0.042)\n",
            ">xgb-[0.01, 100, 1.0, 3]: 0.866 (+/-0.039)\n",
            ">xgb-[0.01, 100, 1.0, 7]: 0.862 (+/-0.046)\n",
            ">xgb-[0.01, 100, 1.0, 9]: 0.861 (+/-0.041)\n",
            ">xgb-[0.1, 50, 0.5, 3]: 0.864 (+/-0.040)\n",
            ">xgb-[0.1, 50, 0.5, 7]: 0.858 (+/-0.035)\n",
            ">xgb-[0.1, 50, 0.5, 9]: 0.859 (+/-0.036)\n",
            ">xgb-[0.1, 50, 0.7, 3]: 0.869 (+/-0.038)\n",
            ">xgb-[0.1, 50, 0.7, 7]: 0.866 (+/-0.038)\n",
            ">xgb-[0.1, 50, 0.7, 9]: 0.863 (+/-0.034)\n",
            ">xgb-[0.1, 50, 1.0, 3]: 0.874 (+/-0.040)\n",
            ">xgb-[0.1, 50, 1.0, 7]: 0.864 (+/-0.038)\n",
            ">xgb-[0.1, 50, 1.0, 9]: 0.865 (+/-0.042)\n",
            ">xgb-[0.1, 100, 0.5, 3]: 0.855 (+/-0.048)\n",
            ">xgb-[0.1, 100, 0.5, 7]: 0.855 (+/-0.039)\n",
            ">xgb-[0.1, 100, 0.5, 9]: 0.857 (+/-0.041)\n",
            ">xgb-[0.1, 100, 0.7, 3]: 0.866 (+/-0.042)\n",
            ">xgb-[0.1, 100, 0.7, 7]: 0.859 (+/-0.040)\n",
            ">xgb-[0.1, 100, 0.7, 9]: 0.859 (+/-0.040)\n",
            ">xgb-[0.1, 100, 1.0, 3]: 0.867 (+/-0.041)\n",
            ">xgb-[0.1, 100, 1.0, 7]: 0.862 (+/-0.039)\n",
            ">xgb-[0.1, 100, 1.0, 9]: 0.863 (+/-0.042)\n",
            "\n",
            "Rank=1, Name=xgb-[0.1, 50, 1.0, 3], Score=0.874 (+/- 0.040)\n",
            "Rank=2, Name=xgb-[0.1, 50, 0.7, 3], Score=0.869 (+/- 0.038)\n",
            "Rank=3, Name=rf, Score=0.868 (+/- 0.036)\n",
            "Rank=4, Name=xgb-[0.1, 100, 1.0, 3], Score=0.867 (+/- 0.041)\n",
            "Rank=5, Name=xgb-[0.01, 50, 1.0, 3], Score=0.867 (+/- 0.036)\n",
            "Rank=6, Name=xgb-[0.1, 100, 0.7, 3], Score=0.866 (+/- 0.042)\n",
            "Rank=7, Name=xgb-[0.1, 50, 0.7, 7], Score=0.866 (+/- 0.038)\n",
            "Rank=8, Name=xgb-[0.01, 100, 1.0, 3], Score=0.866 (+/- 0.039)\n",
            "Rank=9, Name=gbm, Score=0.866 (+/- 0.044)\n",
            "Rank=10, Name=bag, Score=0.866 (+/- 0.035)\n"
          ]
        },
        {
          "data": {
            "image/png": "[encoded data removed]",
            "text/plain": [
              "<Figure size 432x288 with 1 Axes>"
            ]
          },
          "metadata": {
            "needs_background": "light"
          },
          "output_type": "display_data"
        }
      ],
      "source": [
        "# load dataset\n",
        "X, y = load_dataset()\n",
        "# get model list\n",
        "models = define_models()\n",
        "# add gbm models\n",
        "models = define_gbm_models(models)\n",
        "# evaluate models\n",
        "results = evaluate_models(X, y, models)\n",
        "# summarize results\n",
        "\n",
        "summarize_results(results)"
      ]
    },
    {
      "cell_type": "markdown",
      "id": "e42144d1",
      "metadata": {
        "id": "e42144d1"
      },
      "source": [
        "<h2><b>Stacked Classification and Grid Search.<b></h2>"
      ]
    },
    {
      "cell_type": "code",
      "execution_count": null,
      "id": "fa2bce72",
      "metadata": {
        "id": "fa2bce72",
        "outputId": "3dbdfacc-d682-435e-c079-95ffa6d57dc0"
      },
      "outputs": [
        {
          "name": "stdout",
          "output_type": "stream",
          "text": [
            "Collecting mlxtend\n",
            "  Downloading mlxtend-0.19.0-py2.py3-none-any.whl (1.3 MB)\n",
            "Requirement already satisfied: matplotlib>=3.0.0 in c:\\programdata\\anaconda3\\lib\\site-packages (from mlxtend) (3.4.3)\n",
            "Requirement already satisfied: joblib>=0.13.2 in c:\\programdata\\anaconda3\\lib\\site-packages (from mlxtend) (1.1.0)\n",
            "Requirement already satisfied: scipy>=1.2.1 in c:\\programdata\\anaconda3\\lib\\site-packages (from mlxtend) (1.7.1)\n",
            "Requirement already satisfied: setuptools in c:\\programdata\\anaconda3\\lib\\site-packages (from mlxtend) (58.0.4)\n",
            "Requirement already satisfied: pandas>=0.24.2 in c:\\programdata\\anaconda3\\lib\\site-packages (from mlxtend) (1.3.4)\n",
            "Requirement already satisfied: scikit-learn>=0.20.3 in c:\\programdata\\anaconda3\\lib\\site-packages (from mlxtend) (0.24.2)\n",
            "Requirement already satisfied: numpy>=1.16.2 in c:\\programdata\\anaconda3\\lib\\site-packages (from mlxtend) (1.20.3)\n",
            "Requirement already satisfied: cycler>=0.10 in c:\\programdata\\anaconda3\\lib\\site-packages (from matplotlib>=3.0.0->mlxtend) (0.10.0)\n",
            "Requirement already satisfied: pyparsing>=2.2.1 in c:\\programdata\\anaconda3\\lib\\site-packages (from matplotlib>=3.0.0->mlxtend) (3.0.4)\n",
            "Requirement already satisfied: pillow>=6.2.0 in c:\\programdata\\anaconda3\\lib\\site-packages (from matplotlib>=3.0.0->mlxtend) (8.4.0)\n",
            "Requirement already satisfied: kiwisolver>=1.0.1 in c:\\programdata\\anaconda3\\lib\\site-packages (from matplotlib>=3.0.0->mlxtend) (1.3.1)\n",
            "Requirement already satisfied: python-dateutil>=2.7 in c:\\programdata\\anaconda3\\lib\\site-packages (from matplotlib>=3.0.0->mlxtend) (2.8.2)\n",
            "Requirement already satisfied: six in c:\\programdata\\anaconda3\\lib\\site-packages (from cycler>=0.10->matplotlib>=3.0.0->mlxtend) (1.16.0)\n",
            "Requirement already satisfied: pytz>=2017.3 in c:\\programdata\\anaconda3\\lib\\site-packages (from pandas>=0.24.2->mlxtend) (2021.3)\n",
            "Requirement already satisfied: threadpoolctl>=2.0.0 in c:\\programdata\\anaconda3\\lib\\site-packages (from scikit-learn>=0.20.3->mlxtend) (2.2.0)\n",
            "Installing collected packages: mlxtend\n",
            "Successfully installed mlxtend-0.19.0\n"
          ]
        }
      ],
      "source": [
        "from sklearn import datasets\n",
        "import numpy as np\n",
        "\n",
        "X, y = load_dataset()\n",
        "\n",
        "\n",
        "#stacked classification and grid search\n",
        "!pip install mlxtend\n",
        "from sklearn import model_selection\n",
        "from sklearn.linear_model import LogisticRegression\n",
        "from sklearn.neighbors import KNeighborsClassifier\n",
        "from sklearn.naive_bayes import GaussianNB\n",
        "from sklearn.ensemble import RandomForestClassifier\n",
        "from sklearn.model_selection import GridSearchCV\n",
        "from mlxtend.classifier import StackingClassifier\n",
        "import warnings\n",
        "warnings.filterwarnings('ignore')"
      ]
    },
    {
      "cell_type": "markdown",
      "id": "0c3ec947",
      "metadata": {
        "id": "0c3ec947"
      },
      "source": [
        "<h2><b>Models Initialization.<b></h2>"
      ]
    },
    {
      "cell_type": "code",
      "execution_count": null,
      "id": "d0a100c3",
      "metadata": {
        "id": "d0a100c3",
        "outputId": "abdfc026-47e0-4a7a-b17f-7f75a7e03b35"
      },
      "outputs": [
        {
          "name": "stdout",
          "output_type": "stream",
          "text": [
            "3-fold cross validation:\n",
            "\n",
            "Accuracy: 0.73 (+/- 0.03)  [KNN]\n",
            "Accuracy: 0.86 (+/- 0.01)  [Random Forest]\n",
            "Accuracy: 0.82 (+/- 0.01)  [Naive Bayes]\n",
            "Accuracy: 0.84 (+/- 0.01)  [StackingClassifier]\n"
          ]
        }
      ],
      "source": [
        "#initializing models\n",
        "\n",
        "clf1 = KNeighborsClassifier(n_neighbors=1)\n",
        "clf2 = RandomForestClassifier(random_state=1)\n",
        "clf3 = GaussianNB()\n",
        "lr = LogisticRegression()\n",
        "sclf = StackingClassifier(classifiers=[clf1,clf2,clf3],meta_classifier=lr)\n",
        "print('3-fold cross validation:\\n')\n",
        "for clf,label in zip([clf1,clf2,clf3,sclf],\n",
        "                      ['KNN',\n",
        "                        'Random Forest',\n",
        "                         'Naive Bayes',\n",
        "                         'StackingClassifier']):\n",
        "    scores = model_selection.cross_val_score(clf,X,y,\n",
        "                                                cv=3,scoring='accuracy')\n",
        "    print(\"Accuracy: %0.2f (+/- %0.2f)  [%s]\"\n",
        "          % (scores.mean(), scores.std(),label))"
      ]
    },
    {
      "cell_type": "code",
      "execution_count": null,
      "id": "300c7651",
      "metadata": {
        "id": "300c7651"
      },
      "outputs": [],
      "source": []
    }
  ],
  "metadata": {
    "kernelspec": {
      "display_name": "Python 3 (ipykernel)",
      "language": "python",
      "name": "python3"
    },
    "language_info": {
      "codemirror_mode": {
        "name": "ipython",
        "version": 3
      },
      "file_extension": ".py",
      "mimetype": "text/x-python",
      "name": "python",
      "nbconvert_exporter": "python",
      "pygments_lexer": "ipython3",
      "version": "3.9.7"
    },
    "colab": {
      "provenance": [],
      "include_colab_link": true
    }
  },
  "nbformat": 4,
  "nbformat_minor": 5
}